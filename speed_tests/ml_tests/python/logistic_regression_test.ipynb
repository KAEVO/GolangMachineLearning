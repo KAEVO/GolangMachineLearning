{
 "cells": [
  {
   "cell_type": "code",
   "execution_count": null,
   "metadata": {},
   "outputs": [],
   "source": [
    "import numpy as np\n",
    "from sklearn.linear_model import LogisticRegression"
   ]
  },
  {
   "cell_type": "code",
   "execution_count": null,
   "metadata": {},
   "outputs": [],
   "source": [
    "train = np.genfromtxt('../../../datasets/the_breast_canser_500rows_dataset.csv', delimiter=',')[1:]\n",
    "train_test = np.genfromtxt('../../../datasets/the_breast_canser_test_train.csv', delimiter=',')[1:]\n",
    "X = train[:,1:]\n",
    "y = train[:,0]\n",
    "X_test = train_test[:,1:]\n",
    "y_test = train_test[:,0]\n",
    "print(f\"X matrix:\\n {X}\\n\")\n",
    "print(f\"y vector:\\n {y}\")\n",
    "print(f\"X test matrix:\\n {X_test}\\n\")\n",
    "print(f\"y test vector:\\n {y_test}\")"
   ]
  },
  {
   "cell_type": "code",
   "execution_count": null,
   "metadata": {},
   "outputs": [],
   "source": [
    "logr = LogisticRegression(random_state=0, 