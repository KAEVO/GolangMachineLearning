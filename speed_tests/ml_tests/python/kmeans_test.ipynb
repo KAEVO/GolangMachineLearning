{
 "cells": [
  {
   "cell_type": "code",
   "execution_count": null,
   "metadata": {},
   "outputs": [],
   "source": [
    "import numpy as np\n",
    "from sklearn.cluster import KMeans\n",
    "import matplotlib.pyplot as plt"
   ]
  },
  {
   "cell_type": "code",
   "execution_count": null,
   "metadata": {
    "scrolled": false
   },
   "outputs": [],
   "source": [
    "train = np.genfromtxt('../../../datasets/the_xclara_cluster_2.5k_dataset.csv', delimiter=',')[1:]\n",
    "train_test = np.genfromtxt('../../../datasets/the_xclara_cluster_test_train.csv', delimiter=',')[1:]\n",
    "print(f\"Train matrix:\\n {train}\\n\")\n",
    "print(f\"Train test matrix:\\n {train_test}\\n\")"
   ]
  },
  {
   "cell_type": "code",
   "execution_count": null,
   "metadata": {},
   "outputs": [],
   "source": [
    "kmeans = KMeans(n_clusters=3, random_state=0)\n",
    "kmeans.fit(train)"
   ]
  },
  {
   "cell_type": "code",
   "execution_count": null,
   "metadata": {},
   "outputs": [],
   "source": [
    "print(f\"Count of clusters: {set(kmeans.labels_)}\")\n",
    "print(f\"Centers of clus